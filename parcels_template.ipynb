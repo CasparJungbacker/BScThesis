{
 "cells": [
  {
   "cell_type": "markdown",
   "id": "7429ee26-29cb-441b-a97e-347cf8bfb516",
   "metadata": {},
   "source": [
    "# General structure of a parcels simulation"
   ]
  },
  {
   "cell_type": "markdown",
   "id": "8620dfe5-5dc8-4161-ae46-02aaa9731187",
   "metadata": {},
   "source": [
    "Tutorials page: https://nbviewer.jupyter.org/github/OceanParcels/parcels/tree/master/parcels/examples/"
   ]
  },
  {
   "cell_type": "code",
   "execution_count": 1,
   "id": "89d33611-ba6f-4809-b2b4-4baf4df3c660",
   "metadata": {},
   "outputs": [
    {
     "name": "stderr",
     "output_type": "stream",
     "text": [
      "INFO: Compiled ParcelsRandom ==> C:\\Users\\caspa\\AppData\\Local\\Temp\\parcels-tmp\\libparcels_random_e9371b95-822a-46ed-a743-991abc8dde51.so\n"
     ]
    }
   ],
   "source": [
    "import xarray as xr\n",
    "import numpy as np\n",
    "from datetime import timedelta\n",
    "from parcels import FieldSet, ParticleSet, AdvectionRK4, JITParticle, plotTrajectoriesFile\n",
    "import format_data"
   ]
  },
  {
   "cell_type": "markdown",
   "id": "22f4d89a-531c-4709-a1c5-7116ab3d2743",
   "metadata": {},
   "source": [
    "**Use our own preprocessing function to concate the 11 loose files and add coordinates + timestamps**"
   ]
  },
  {
   "cell_type": "code",
   "execution_count": 2,
   "id": "5c324d68-fcae-4017-814d-4acc511bebf4",
   "metadata": {},
   "outputs": [],
   "source": [
    "uxg = format_data.preprocess(\"uxg\")\n",
    "uyg = format_data.preprocess(\"uyg\")"
   ]
  },
  {
   "cell_type": "markdown",
   "id": "39b5f6be-5271-4703-b25b-001852d9b786",
   "metadata": {},
   "source": [
    "**Only use the surface layer**"
   ]
  },
  {
   "cell_type": "code",
   "execution_count": 3,
   "id": "8781f467-9460-4393-a91a-47c0d335667a",
   "metadata": {},
   "outputs": [],
   "source": [
    "surface_uxg = uxg.__xarray_dataarray_variable__[:,:,:,19]\n",
    "surface_uyg = uyg.__xarray_dataarray_variable__[:,:,:,19]"
   ]
  },
  {
   "cell_type": "markdown",
   "id": "22fac8eb-8e2b-4628-8554-dcc080d3efeb",
   "metadata": {},
   "source": [
    "**Put U and V velocities in one dataset**"
   ]
  },
  {
   "cell_type": "code",
   "execution_count": 6,
   "id": "0c151078-9fec-4462-8809-d440901fe39e",
   "metadata": {},
   "outputs": [],
   "source": [
    "surface_ds = xr.Dataset({\"U\": surface_uxg, \"V\": surface_uyg})"
   ]
  },
  {
   "cell_type": "markdown",
   "id": "a62742e0-2c0a-40c8-acbe-322bb7e7a21d",
   "metadata": {},
   "source": [
    "**Set the field**"
   ]
  },
  {
   "cell_type": "code",
   "execution_count": 8,
   "id": "24acb4c6-9dee-4f04-8231-58ac0997dd19",
   "metadata": {},
   "outputs": [
    {
     "name": "stderr",
     "output_type": "stream",
     "text": [
      "WARNING: Casting lon data to np.float32\n",
      "WARNING: Casting lat data to np.float32\n",
      "WARNING: Casting depth data to np.float32\n",
      "WARNING: Casting field data to np.float32\n"
     ]
    }
   ],
   "source": [
    "variables = {\"U\": \"U\", \"V\": \"V\"}\n",
    "dimensions = {\"U\": {\"lat\": \"lat\", \"lon\": \"lon\", \"time\": \"time\"},\n",
    "              \"V\": {\"lat\": \"lat\", \"lon\": \"lon\", \"time\": \"time\"}}\n",
    "\n",
    "fieldset = FieldSet.from_xarray_dataset(ds=surface_ds, variables=variables, dimensions=dimensions)"
   ]
  },
  {
   "cell_type": "markdown",
   "id": "0bbd5d15-843d-403a-81e2-bb7101bc123e",
   "metadata": {},
   "source": [
    "**Define particle. This one is placed in the Rotterdam Waterway, right on high tide**"
   ]
  },
  {
   "cell_type": "code",
   "execution_count": 24,
   "id": "a27f1cae-9bb6-41ac-b0a8-20d1f1032731",
   "metadata": {},
   "outputs": [],
   "source": [
    "pset = ParticleSet(fieldset=fieldset,\n",
    "                   pclass=JITParticle,\n",
    "                   lon=4.078,\n",
    "                   lat=51.982,\n",
    "                   time=timedelta(hours=9).total_seconds())\n",
    "\n",
    "pset.show()"
   ]
  },
  {
   "cell_type": "markdown",
   "id": "c315d47e-9699-4bdf-9b7e-e0aac6a4f6e4",
   "metadata": {},
   "source": [
    "**Define an output file. Timesteps of the Delft3D simulation was 20 minutes, so we will use that here too**"
   ]
  },
  {
   "cell_type": "code",
   "execution_count": 26,
   "id": "d4bab7d8-42df-442d-9ceb-5a884d34ad15",
   "metadata": {},
   "outputs": [],
   "source": [
    "output_file = pset.ParticleFile(name=\"surface_particle.nc\", outputdt=timedelta(minutes=20))"
   ]
  },
  {
   "cell_type": "markdown",
   "id": "e3c2a407-fd80-4c29-9b95-81fa2c75b14f",
   "metadata": {},
   "source": [
    "**Execute the simulation for one day**"
   ]
  },
  {
   "cell_type": "code",
   "execution_count": 27,
   "id": "e262067a-bc71-4edb-bd56-ffe2b39806f6",
   "metadata": {},
   "outputs": [
    {
     "name": "stderr",
     "output_type": "stream",
     "text": [
      "INFO: Compiled JITParticleAdvectionRK4 ==> C:\\Users\\caspa\\AppData\\Local\\Temp\\parcels-tmp\\c0791cc4d30958eeafb195fe13d8df0a_0.dll\n",
      "INFO: Temporary output files are stored in out-JUCBSMAF.\n",
      "INFO: You can use \"parcels_convert_npydir_to_netcdf out-JUCBSMAF\" to convert these to a NetCDF file during the run.\n",
      "100% (86400.0 of 86400.0) |##############| Elapsed Time: 0:00:00 Time:  0:00:00\n"
     ]
    }
   ],
   "source": [
    "pset.execute(AdvectionRK4,\n",
    "             runtime=timedelta(days=1),\n",
    "             dt=timedelta(minutes=20),\n",
    "             output_file=output_file)"
   ]
  },
  {
   "cell_type": "markdown",
   "id": "08d9dbfe-fa81-4667-bda7-ab6a0916345a",
   "metadata": {},
   "source": [
    "**Save the simulation file**"
   ]
  },
  {
   "cell_type": "code",
   "execution_count": 28,
   "id": "fbbbbd68-088f-44f4-a8ed-2d6ff4b18f67",
   "metadata": {},
   "outputs": [],
   "source": [
    "output_file.export()"
   ]
  },
  {
   "cell_type": "markdown",
   "id": "8955a27f-74a8-4197-b7fb-35e42f329f84",
   "metadata": {},
   "source": [
    "**Clean temporary files**"
   ]
  },
  {
   "cell_type": "code",
   "execution_count": 29,
   "id": "641fb285-7d5f-4b4a-bc75-b1a981c4c86d",
   "metadata": {},
   "outputs": [],
   "source": [
    "output_file.close()"
   ]
  },
  {
   "cell_type": "markdown",
   "id": "580e0c8c-8c8a-4e58-9211-94c8b71a0b9b",
   "metadata": {},
   "source": [
    "**Plot output**"
   ]
  },
  {
   "cell_type": "code",
   "execution_count": 30,
   "id": "d7f0c042-2a74-4ba8-86a9-29050695741b",
   "metadata": {},
   "outputs": [
    {
     "data": {
      "image/png": "[encoded data removed]",
      "text/plain": [
       "<Figure size 432x288 with 1 Axes>"
      ]
     },
     "metadata": {
      "needs_background": "light"
     },
     "output_type": "display_data"
    },
    {
     "data": {
      "text/plain": [
       "<module 'matplotlib.pyplot' from 'C:\\\\Users\\\\caspa\\\\Anaconda3\\\\envs\\\\py3_parcels\\\\lib\\\\site-packages\\\\matplotlib\\\\pyplot.py'>"
      ]
     },
     "execution_count": 30,
     "metadata": {},
     "output_type": "execute_result"
    }
   ],
   "source": [
    "plotTrajectoriesFile('surface_particle.nc')"
   ]
  }
 ],
 "metadata": {
  "kernelspec": {
   "display_name": "Python 3",
   "language": "python",
   "name": "python3"
  },
  "language_info": {
   "codemirror_mode": {
    "name": "ipython",
    "version": 3
   },
   "file_extension": ".py",
   "mimetype": "text/x-python",
   "name": "python",
   "nbconvert_exporter": "python",
   "pygments_lexer": "ipython3",
   "version": "3.6.13"
  }
 },
 "nbformat": 4,
 "nbformat_minor": 5
}
