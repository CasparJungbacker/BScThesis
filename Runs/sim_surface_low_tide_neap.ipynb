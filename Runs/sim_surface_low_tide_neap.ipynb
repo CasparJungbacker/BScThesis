{
 "cells": [
  {
   "cell_type": "markdown",
   "id": "21462e00-7260-41eb-b003-df4d7f8a5460",
   "metadata": {},
   "source": [
    "# Simulation: only surface velocities, four days, low tide"
   ]
  },
  {
   "cell_type": "markdown",
   "id": "0b73cefc-0925-4984-add1-851426524d41",
   "metadata": {},
   "source": [
    "# Importing packages"
   ]
  },
  {
   "cell_type": "code",
   "execution_count": 1,
   "id": "78e7cb24-60ab-493d-a9b8-f034944fd9bb",
   "metadata": {},
   "outputs": [
    {
     "name": "stderr",
     "output_type": "stream",
     "text": [
      "INFO: Compiled ParcelsRandom ==> /tmp/parcels-1000/libparcels_random_9b715696-3c84-4b54-8f31-4ac9479e11a3.so\n"
     ]
    }
   ],
   "source": [
    "import xarray as xr\n",
    "import numpy as np\n",
    "from datetime import timedelta\n",
    "from parcels import FieldSet, ParticleSet, AdvectionRK4, JITParticle, plotTrajectoriesFile\n",
    "import sys\n",
    "sys.path.append(\"..\")\n",
    "import format_data\n",
    "import matplotlib.pyplot as plt\n",
    "import cartopy.crs as ccrs\n",
    "import cartopy.feature as cf"
   ]
  },
  {
   "cell_type": "code",
   "execution_count": 2,
   "id": "3355bb89-29eb-4fdd-8d8e-60c8bf0c17c5",
   "metadata": {},
   "outputs": [],
   "source": [
    "plt.style.use('seaborn-dark-palette')\n",
    "plt.rcParams.update({'font.size': 18, 'figure.figsize': (12.8, 9.6)})"
   ]
  },
  {
   "cell_type": "code",
   "execution_count": 3,
   "id": "15772cfb-b1e4-4f92-9e9c-978a3c8dd4ec",
   "metadata": {},
   "outputs": [],
   "source": [
    "save_plots = True"
   ]
  },
  {
   "cell_type": "markdown",
   "id": "1e25cbe3-f7f2-45e4-9eb6-2a3860cf8fe2",
   "metadata": {},
   "source": [
    "# Empty map"
   ]
  },
  {
   "cell_type": "code",
   "execution_count": 4,
   "id": "96918889-7c74-4553-8558-008ffa0bdf6e",
   "metadata": {},
   "outputs": [],
   "source": [
    "def get_map():\n",
    "    ax = plt.axes(projection=ccrs.PlateCarree())\n",
    "    fig = plt.gcf()\n",
    "    ax.set_extent([3.5,4.75,51.9,52.75])\n",
    "    ax.coastlines()\n",
    "    ax.add_feature(cf.BORDERS)\n",
    "    ax.add_feature(cf.LAND)\n",
    "    ax.add_feature(cf.OCEAN)\n",
    "    ax.add_feature(cf.RIVERS)\n",
    "    ax.gridlines(draw_labels=True)\n",
    "    \n",
    "    return fig, ax"
   ]
  },
  {
   "cell_type": "markdown",
   "id": "34f68f91-e2ad-4c19-ae09-05a8f75d78f6",
   "metadata": {},
   "source": [
    "# Preprocessing data"
   ]
  },
  {
   "cell_type": "code",
   "execution_count": 5,
   "id": "decb1737-9974-4a85-ad34-127e3cee5d64",
   "metadata": {},
   "outputs": [],
   "source": [
    "data_dir = format_data.data_dir(\"../../Data\")\n",
    "uxg = data_dir.preprocess(\"uxg\")\n",
    "uyg = data_dir.preprocess(\"uyg\")"
   ]
  },
  {
   "cell_type": "code",
   "execution_count": 6,
   "id": "d530f8d7-67e3-41ff-9ff5-c0f464d5762c",
   "metadata": {},
   "outputs": [],
   "source": [
    "surface_uxg = uxg.__xarray_dataarray_variable__[:,19,:,:]\n",
    "surface_uyg = uyg.__xarray_dataarray_variable__[:,19,:,:]"
   ]
  },
  {
   "cell_type": "markdown",
   "id": "7d135fd9-26f3-4842-984d-d1730e3f2d76",
   "metadata": {},
   "source": [
    "**Masking velocities on land**"
   ]
  },
  {
   "cell_type": "code",
   "execution_count": 7,
   "id": "b0073e57-28e8-42dd-9ead-6639594b351d",
   "metadata": {},
   "outputs": [],
   "source": [
    "surface_uxg_clipped = data_dir.clip(surface_uxg)\n",
    "surface_uyg_clipped = data_dir.clip(surface_uyg)"
   ]
  },
  {
   "cell_type": "code",
   "execution_count": 8,
   "id": "9dd5ac79-1f33-459f-8ce4-8f16b0f85578",
   "metadata": {},
   "outputs": [],
   "source": [
    "surface_ds = xr.Dataset({\"U\": surface_uxg_clipped, \"V\": surface_uyg_clipped})"
   ]
  },
  {
   "cell_type": "markdown",
   "id": "66c0bb7b-2936-4b57-90aa-7145c5292341",
   "metadata": {},
   "source": [
    "# Initializing the field for Parcels"
   ]
  },
  {
   "cell_type": "code",
   "execution_count": 9,
   "id": "35669f85-bdf4-4b6b-a0ae-c3c319eb3487",
   "metadata": {},
   "outputs": [
    {
     "name": "stderr",
     "output_type": "stream",
     "text": [
      "WARNING: Casting lon data to np.float32\n",
      "WARNING: Casting lat data to np.float32\n",
      "WARNING: Casting depth data to np.float32\n",
      "WARNING: Casting field data to np.float32\n"
     ]
    }
   ],
   "source": [
    "variables = {\"U\": \"U\", \"V\": \"V\"}\n",
    "dimensions = {\"U\": {\"lat\": \"lat\", \"lon\": \"lon\", \"time\": \"time\"},\n",
    "              \"V\": {\"lat\": \"lat\", \"lon\": \"lon\", \"time\": \"time\"}}\n",
    "\n",
    "fieldset = FieldSet.from_xarray_dataset(ds=surface_ds, variables=variables, dimensions=dimensions)"
   ]
  },
  {
   "cell_type": "markdown",
   "id": "f2925f06-947e-4108-a5e7-0c182928dc42",
   "metadata": {},
   "source": [
    "# Number, locations and timesteps of particles"
   ]
  },
  {
   "cell_type": "code",
   "execution_count": 10,
   "id": "f46781b2-d18f-49d3-a243-abffe2603f99",
   "metadata": {},
   "outputs": [],
   "source": [
    "npart = 7 # 7 particles\n",
    "lon = 4.075 * np.ones(npart) \n",
    "lat = 51.995 * np.ones(npart)\n",
    "time = (np.arange(0, npart) * timedelta(minutes=20).total_seconds()) + timedelta(hours=15).total_seconds() # Drop particles at 20 minute interval after 15:00 at 17-09\n",
    "output_dt = timedelta(minutes=5)"
   ]
  },
  {
   "cell_type": "markdown",
   "id": "35ccb701-9127-4d69-8342-f89f0f3c832a",
   "metadata": {},
   "source": [
    "# Particle set"
   ]
  },
  {
   "cell_type": "code",
   "execution_count": 11,
   "id": "1a832c70-b154-4827-b40a-51ee4708cf75",
   "metadata": {},
   "outputs": [],
   "source": [
    "pset = ParticleSet(fieldset=fieldset,\n",
    "                   pclass=JITParticle,\n",
    "                   lon=lon,\n",
    "                   lat=lat,\n",
    "                   time=time)"
   ]
  },
  {
   "cell_type": "code",
   "execution_count": 12,
   "id": "fbf5d37e-4f31-4392-8ee5-f8b499ab0318",
   "metadata": {},
   "outputs": [],
   "source": [
    "output_file = pset.ParticleFile(name=\"surface_low_tide_output.nc\",\n",
    "                                outputdt=output_dt)"
   ]
  },
  {
   "cell_type": "markdown",
   "id": "e0fe5489-4faa-412c-99bc-e68d242629e9",
   "metadata": {},
   "source": [
    "# Execute kernel"
   ]
  },
  {
   "cell_type": "code",
   "execution_count": 13,
   "id": "f1f351dc-893a-44cb-b501-18074ca57c61",
   "metadata": {},
   "outputs": [
    {
     "name": "stderr",
     "output_type": "stream",
     "text": [
      "INFO: Compiled JITParticleAdvectionRK4 ==> /tmp/parcels-1000/57e986348d00326a22ed4fb3043cb2e6_0.so\n",
      "INFO: Temporary output files are stored in out-KNFDURRL.\n",
      "INFO: You can use \"parcels_convert_npydir_to_netcdf out-KNFDURRL\" to convert these to a NetCDF file during the run.\n",
      "100% (345600.0 of 345600.0) |############| Elapsed Time: 0:00:05 Time:  0:00:05\n"
     ]
    }
   ],
   "source": [
    "pset.execute(AdvectionRK4,\n",
    "             runtime=timedelta(days=4),\n",
    "             dt=output_dt,\n",
    "             output_file=output_file)"
   ]
  },
  {
   "cell_type": "code",
   "execution_count": 14,
   "id": "8d37a042-00e2-4793-92cc-63002102435c",
   "metadata": {},
   "outputs": [],
   "source": [
    "output_file.export()\n",
    "output_file.close()"
   ]
  },
  {
   "cell_type": "markdown",
   "id": "3d8da4ef-d80c-4e8b-8041-f4532d9d70eb",
   "metadata": {},
   "source": [
    "# Loading the output file"
   ]
  },
  {
   "cell_type": "code",
   "execution_count": 15,
   "id": "b5c9546d-4b59-4a41-b3c6-18673896846e",
   "metadata": {},
   "outputs": [],
   "source": [
    "output = xr.open_dataset(\"surface_low_tide_output.nc\")"
   ]
  },
  {
   "cell_type": "markdown",
   "id": "a12722c8-c1d8-4caf-909e-501a633f646a",
   "metadata": {},
   "source": [
    "# Plotting"
   ]
  },
  {
   "cell_type": "code",
   "execution_count": 16,
   "id": "1771cfc8-a9f5-4914-8051-ed10b5957b18",
   "metadata": {},
   "outputs": [],
   "source": [
    "x = output['lon'].values\n",
    "y = output['lat'].values"
   ]
  },
  {
   "cell_type": "code",
   "execution_count": 17,
   "id": "f8487d1e-ea5d-4945-99a2-721eb683021e",
   "metadata": {},
   "outputs": [
    {
     "data": {
      "image/png": "[encoded data removed]",
      "text/plain": [
       "<Figure size 921.6x691.2 with 1 Axes>"
      ]
     },
     "metadata": {
      "needs_background": "light"
     },
     "output_type": "display_data"
    }
   ],
   "source": [
    "fig, ax = get_map()\n",
    "for i in range(len(x)):\n",
    "    ax.scatter(x[i], y[i], label=output.time[i,0].dt.strftime(\"%H:%M\").values, s=0.4)\n",
    "ax.legend(loc=\"upper left\", markerscale=15, title=\"Time of release\")\n",
    "ax.set_title(f'Release after low tide, during neap tide ({output.time[0,0].dt.strftime(\"%d-%m-%y\").values}), runtime: 4 days')\n",
    "\n",
    "if save_plots:\n",
    "    plt.gcf().savefig(\"../figs/sim_surface_low_tide_neap_4_days.pdf\", bbox_inches=\"tight\")"
   ]
  }
 ],
 "metadata": {
  "kernelspec": {
   "display_name": "Python 3",
   "language": "python",
   "name": "python3"
  },
  "language_info": {
   "codemirror_mode": {
    "name": "ipython",
    "version": 3
   },
   "file_extension": ".py",
   "mimetype": "text/x-python",
   "name": "python",
   "nbconvert_exporter": "python",
   "pygments_lexer": "ipython3",
   "version": "3.6.13"
  }
 },
 "nbformat": 4,
 "nbformat_minor": 5
}
