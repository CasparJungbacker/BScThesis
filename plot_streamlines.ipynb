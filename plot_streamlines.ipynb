{
 "cells": [
  {
   "cell_type": "markdown",
   "id": "b4b85a0c",
   "metadata": {},
   "source": [
    "# Importing Packages"
   ]
  },
  {
   "cell_type": "code",
   "execution_count": 2,
   "id": "e01e93e8",
   "metadata": {},
   "outputs": [],
   "source": [
    "%matplotlib inline\n",
    "import matplotlib.pyplot as plt\n",
    "import matplotlib.gridspec as gridspec\n",
    "import numpy as np\n",
    "import os\n",
    "import cartopy.crs as ccrs\n",
    "import cartopy.feature as cf\n",
    "import xarray as xr"
   ]
  },
  {
   "cell_type": "code",
   "execution_count": 3,
   "id": "26412608",
   "metadata": {},
   "outputs": [],
   "source": [
    "plt.style.use('seaborn-dark-palette')\n",
    "plt.rcParams.update({'font.size': 18, 'figure.figsize': (12.8, 9.6)})"
   ]
  },
  {
   "cell_type": "markdown",
   "id": "debfac39",
   "metadata": {},
   "source": [
    "# Save plots?"
   ]
  },
  {
   "cell_type": "code",
   "execution_count": 4,
   "id": "b81c8020",
   "metadata": {},
   "outputs": [],
   "source": [
    "save_plots = True"
   ]
  },
  {
   "cell_type": "markdown",
   "id": "b96b99b7",
   "metadata": {},
   "source": [
    "# Empty map"
   ]
  },
  {
   "cell_type": "code",
   "execution_count": 5,
   "id": "21f48bff",
   "metadata": {},
   "outputs": [],
   "source": [
    "def get_map():\n",
    "    ax = plt.axes(projection=ccrs.PlateCarree())\n",
    "    fig = plt.gcf()\n",
    "    ax.set_extent([0, 5.5, 50, 54])\n",
    "    ax.coastlines()\n",
    "    ax.add_feature(cf.BORDERS)\n",
    "    ax.add_feature(cf.LAND)\n",
    "    ax.add_feature(cf.OCEAN)\n",
    "    ax.add_feature(cf.RIVERS)\n",
    "    ax.gridlines(draw_labels=True)\n",
    "    \n",
    "    return fig, ax"
   ]
  },
  {
   "cell_type": "markdown",
   "id": "18746756",
   "metadata": {},
   "source": [
    "# Loading data"
   ]
  },
  {
   "cell_type": "code",
   "execution_count": 6,
   "id": "e743c73d",
   "metadata": {},
   "outputs": [],
   "source": [
    "U_path = os.path.join(\"..\", \"Data\", \"uxg.nc\")\n",
    "V_path = os.path.join(\"..\", \"Data\", \"uyg.nc\")"
   ]
  },
  {
   "cell_type": "code",
   "execution_count": 7,
   "id": "b5f9715f",
   "metadata": {},
   "outputs": [],
   "source": [
    "U = xr.open_dataset(U_path)\n",
    "V = xr.open_dataset(V_path)"
   ]
  },
  {
   "cell_type": "markdown",
   "id": "84039029",
   "metadata": {},
   "source": [
    "# Extracting coordinates"
   ]
  },
  {
   "cell_type": "code",
   "execution_count": 22,
   "id": "d08e4e45",
   "metadata": {},
   "outputs": [],
   "source": [
    "latlow = 51.75\n",
    "latup = 53\n",
    "lonlow = 3\n",
    "lonup = 4.75"
   ]
  },
  {
   "cell_type": "code",
   "execution_count": 24,
   "id": "fbde42c1",
   "metadata": {},
   "outputs": [
    {
     "data": {
      "text/plain": [
       "array([[3.0015625, 3.0046875, 3.0078125, ..., 4.7421875, 4.7453125,\n",
       "        4.7484375],\n",
       "       [3.0015625, 3.0046875, 3.0078125, ..., 4.7421875, 4.7453125,\n",
       "        4.7484375],\n",
       "       [3.0015625, 3.0046875, 3.0078125, ..., 4.7421875, 4.7453125,\n",
       "        4.7484375],\n",
       "       ...,\n",
       "       [3.0015625, 3.0046875, 3.0078125, ..., 4.7421875, 4.7453125,\n",
       "        4.7484375],\n",
       "       [3.0015625, 3.0046875, 3.0078125, ..., 4.7421875, 4.7453125,\n",
       "        4.7484375],\n",
       "       [3.0015625, 3.0046875, 3.0078125, ..., 4.7421875, 4.7453125,\n",
       "        4.7484375]])"
      ]
     },
     "execution_count": 24,
     "metadata": {},
     "output_type": "execute_result"
    }
   ],
   "source": [
    "res = (1/(60/0.125));\n",
    "a = np.arange(lonlow+(res*1.5)/2,lonup,res*1.5) # Longitude 560 values\n",
    "b = np.arange(latlow+(res)/2,latup,res) # Latitude 600 values\n",
    "\n",
    "xint,yint = np.meshgrid(a,b)"
   ]
  }
 ],
 "metadata": {
  "kernelspec": {
   "display_name": "Python 3.6.13 64-bit ('py3_parcels_mpi': conda)",
   "language": "python",
   "name": "python3613jvsc74a57bd0ae7c2efc9dd296fb18728177d15fbe540acf18e843cead5489e1d738787848ef"
  },
  "language_info": {
   "codemirror_mode": {
    "name": "ipython",
    "version": 3
   },
   "file_extension": ".py",
   "mimetype": "text/x-python",
   "name": "python",
   "nbconvert_exporter": "python",
   "pygments_lexer": "ipython3",
   "version": "3.6.13"
  }
 },
 "nbformat": 4,
 "nbformat_minor": 5
}
